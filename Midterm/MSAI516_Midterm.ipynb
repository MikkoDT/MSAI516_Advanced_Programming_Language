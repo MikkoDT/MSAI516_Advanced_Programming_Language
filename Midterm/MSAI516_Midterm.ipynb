{
 "cells": [
  {
   "cell_type": "markdown",
   "metadata": {},
   "source": [
    "Problem 1:\n",
    "\n",
    "Create a Function that implements Fibonacci Numbers\n",
    "\n",
    "Fibonacci numbers are used in the analysis of financial markets, in strategies such as Fibonacci retracement, and are used in computer algorithms such as the Fibonacci search technique and the Fibonacci heap data structure. They also appear in biological settings, such as branching in trees, the arrangement of leaves on a stem, the fruitlets of a pineapple, the flowering of an artichoke, an uncurling fern, and the arrangement of a pine cone.\n",
    "\n",
    "In mathematics, Fibonacci numbers are the numbers in the following sequence: 0, 1, 1, 2, 3, 5, 8, 13, 21, 34, 55, 89, 144, . . .\n",
    "\n",
    "By definition, the first two Fibonacci numbers are 0 and 1, and each subsequent number is the sum of the previous two. \n",
    "\n",
    "Some sources omit the initial 0, instead beginning the sequence with two 1s.\n",
    "\n",
    "In mathematical terms, the sequence Fn of Fibonacci numbers is defined by the recurrence relation\n",
    "\n",
    "fn = fn−1 + fn−2 (6.4)\n",
    "\n",
    "with seed values:\n",
    "\n",
    "f0 = 0, f1 = 1\n",
    "\n",
    "Create a Function that implements the N first Fibonacci Numbers.\n"
   ]
  },
  {
   "cell_type": "code",
   "execution_count": 8,
   "metadata": {},
   "outputs": [],
   "source": [
    "def fibonacci_num(n):\n",
    "    fib = [0, 1]\n",
    "    if n == 0:\n",
    "        return []\n",
    "    elif n == 1:\n",
    "        return [0]\n",
    "    elif n == 2:\n",
    "        return fib\n",
    "    \n",
    "    for _ in range(2, n):\n",
    "        next_fib = fib[-1] + fib[-2]\n",
    "        fib.append(next_fib)\n",
    "    \n",
    "    return fib\n"
   ]
  },
  {
   "cell_type": "code",
   "execution_count": 15,
   "metadata": {},
   "outputs": [
    {
     "name": "stdout",
     "output_type": "stream",
     "text": [
      "fibonacci_numbers =  []\n"
     ]
    }
   ],
   "source": [
    "# Testing 1:\n",
    "n = 0\n",
    "print(\"fibonacci_numbers = \", fibonacci_num(n))"
   ]
  },
  {
   "cell_type": "code",
   "execution_count": 16,
   "metadata": {},
   "outputs": [
    {
     "name": "stdout",
     "output_type": "stream",
     "text": [
      "fibonacci_numbers =  [0]\n"
     ]
    }
   ],
   "source": [
    "# Testing 2:\n",
    "n = 1\n",
    "print(\"fibonacci_numbers = \", fibonacci_num(n))"
   ]
  },
  {
   "cell_type": "code",
   "execution_count": 17,
   "metadata": {},
   "outputs": [
    {
     "name": "stdout",
     "output_type": "stream",
     "text": [
      "fibonacci_numbers =  [0, 1]\n"
     ]
    }
   ],
   "source": [
    "# Testing 3:\n",
    "n = 2\n",
    "print(\"fibonacci_numbers = \", fibonacci_num(n))"
   ]
  },
  {
   "cell_type": "code",
   "execution_count": 18,
   "metadata": {},
   "outputs": [
    {
     "name": "stdout",
     "output_type": "stream",
     "text": [
      "fibonacci_numbers =  [0, 1, 1]\n"
     ]
    }
   ],
   "source": [
    "# Testing 4:\n",
    "n = 3\n",
    "print(\"fibonacci_numbers = \", fibonacci_num(n))"
   ]
  },
  {
   "cell_type": "code",
   "execution_count": 19,
   "metadata": {},
   "outputs": [
    {
     "name": "stdout",
     "output_type": "stream",
     "text": [
      "fibonacci_numbers =  [0, 1, 1, 2]\n"
     ]
    }
   ],
   "source": [
    "# Testing 5:\n",
    "n = 4\n",
    "print(\"fibonacci_numbers = \", fibonacci_num(n))"
   ]
  },
  {
   "cell_type": "code",
   "execution_count": 20,
   "metadata": {},
   "outputs": [
    {
     "name": "stdout",
     "output_type": "stream",
     "text": [
      "fibonacci_numbers =  [0, 1, 1, 2, 3]\n"
     ]
    }
   ],
   "source": [
    "# Testing 6:\n",
    "n = 5\n",
    "print(\"fibonacci_numbers = \", fibonacci_num(n))"
   ]
  },
  {
   "cell_type": "code",
   "execution_count": 21,
   "metadata": {},
   "outputs": [
    {
     "name": "stdout",
     "output_type": "stream",
     "text": [
      "fibonacci_numbers =  [0, 1, 1, 2, 3, 5, 8, 13, 21, 34]\n"
     ]
    }
   ],
   "source": [
    "# Testing 7:\n",
    "n = 10\n",
    "print(\"fibonacci_numbers = \", fibonacci_num(n))"
   ]
  },
  {
   "cell_type": "code",
   "execution_count": 22,
   "metadata": {},
   "outputs": [
    {
     "name": "stdout",
     "output_type": "stream",
     "text": [
      "fibonacci_numbers =  [0, 1, 1, 2, 3, 5, 8, 13, 21, 34, 55, 89, 144]\n"
     ]
    }
   ],
   "source": [
    "# Testing 8:\n",
    "n = 13\n",
    "print(\"fibonacci_numbers = \", fibonacci_num(n))"
   ]
  },
  {
   "cell_type": "code",
   "execution_count": null,
   "metadata": {},
   "outputs": [],
   "source": []
  }
 ],
 "metadata": {
  "kernelspec": {
   "display_name": "base",
   "language": "python",
   "name": "python3"
  },
  "language_info": {
   "codemirror_mode": {
    "name": "ipython",
    "version": 3
   },
   "file_extension": ".py",
   "mimetype": "text/x-python",
   "name": "python",
   "nbconvert_exporter": "python",
   "pygments_lexer": "ipython3",
   "version": "3.11.5"
  }
 },
 "nbformat": 4,
 "nbformat_minor": 2
}
