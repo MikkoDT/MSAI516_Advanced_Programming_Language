{
 "cells": [
  {
   "cell_type": "markdown",
   "metadata": {},
   "source": [
    "Problem 1:\n",
    "\n",
    "Create a Function that implements Fibonacci Numbers\n",
    "\n",
    "Fibonacci numbers are used in the analysis of financial markets, in strategies such as Fibonacci retracement, and are used in computer algorithms such as the Fibonacci search technique and the Fibonacci heap data structure. They also appear in biological settings, such as branching in trees, the arrangement of leaves on a stem, the fruitlets of a pineapple, the flowering of an artichoke, an uncurling fern, and the arrangement of a pine cone.\n",
    "\n",
    "In mathematics, Fibonacci numbers are the numbers in the following sequence: 0, 1, 1, 2, 3, 5, 8, 13, 21, 34, 55, 89, 144, . . .\n",
    "\n",
    "By definition, the first two Fibonacci numbers are 0 and 1, and each subsequent number is the sum of the previous two. \n",
    "\n",
    "Some sources omit the initial 0, instead beginning the sequence with two 1s.\n",
    "\n",
    "In mathematical terms, the sequence Fn of Fibonacci numbers is defined by the recurrence relation\n",
    "\n",
    "fn = fn−1 + fn−2 (6.4)\n",
    "\n",
    "with seed values:\n",
    "\n",
    "f0 = 0, f1 = 1\n",
    "\n",
    "Create a Function that implements the N first Fibonacci Numbers.\n"
   ]
  },
  {
   "cell_type": "code",
   "execution_count": 8,
   "metadata": {},
   "outputs": [],
   "source": [
    "def fibonacci_num(n):\n",
    "    fib = [0, 1]\n",
    "    if n == 0:\n",
    "        return []\n",
    "    elif n == 1:\n",
    "        return [0]\n",
    "    elif n == 2:\n",
    "        return fib\n",
    "    \n",
    "    for _ in range(2, n):\n",
    "        next_fib = fib[-1] + fib[-2]\n",
    "        fib.append(next_fib)\n",
    "    \n",
    "    return fib\n"
   ]
  },
  {
   "cell_type": "code",
   "execution_count": 14,
   "metadata": {},
   "outputs": [
    {
     "name": "stdout",
     "output_type": "stream",
     "text": [
      "fibonacci_numbers =  [0, 1, 1, 2, 3]\n"
     ]
    }
   ],
   "source": [
    "# Example usage:\n",
    "n = 5\n",
    "print(\"fibonacci_numbers = \", fibonacci_num(n))"
   ]
  },
  {
   "cell_type": "code",
   "execution_count": null,
   "metadata": {},
   "outputs": [],
   "source": []
  }
 ],
 "metadata": {
  "kernelspec": {
   "display_name": "base",
   "language": "python",
   "name": "python3"
  },
  "language_info": {
   "codemirror_mode": {
    "name": "ipython",
    "version": 3
   },
   "file_extension": ".py",
   "mimetype": "text/x-python",
   "name": "python",
   "nbconvert_exporter": "python",
   "pygments_lexer": "ipython3",
   "version": "3.11.5"
  }
 },
 "nbformat": 4,
 "nbformat_minor": 2
}
