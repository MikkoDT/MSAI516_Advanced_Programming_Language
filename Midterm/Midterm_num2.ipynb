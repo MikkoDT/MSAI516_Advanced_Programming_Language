{
 "cells": [
  {
   "cell_type": "code",
   "execution_count": 5,
   "metadata": {},
   "outputs": [],
   "source": [
    "class PrimeNumber:\n",
    "  def __init__(self, num):\n",
    "    self.number = num\n",
    "\n",
    "  def is_prime(self):\n",
    "    if self.number <= 1:\n",
    "      return False\n",
    "    elif self.number <= 3:\n",
    "      return True\n",
    "    elif self.number % 2 == 0 or self.number % 3 == 0:\n",
    "      return False\n",
    "    i = 5\n",
    "    while i * i <= self.number:\n",
    "      if self.number % i == 0 or self.number % (i + 2) == 0:\n",
    "        return False\n",
    "      i += 6\n",
    "    return True"
   ]
  },
  {
   "cell_type": "code",
   "execution_count": 12,
   "metadata": {},
   "outputs": [
    {
     "name": "stdout",
     "output_type": "stream",
     "text": [
      "False\n"
     ]
    }
   ],
   "source": [
    "#Testing 1:\n",
    "Test1 = PrimeNumber(1)\n",
    "print(Test1.is_prime())"
   ]
  },
  {
   "cell_type": "code",
   "execution_count": 13,
   "metadata": {},
   "outputs": [
    {
     "name": "stdout",
     "output_type": "stream",
     "text": [
      "True\n"
     ]
    }
   ],
   "source": [
    "#Testing 2:\n",
    "Test1 = PrimeNumber(2)\n",
    "print(Test1.is_prime())"
   ]
  },
  {
   "cell_type": "code",
   "execution_count": 14,
   "metadata": {},
   "outputs": [
    {
     "name": "stdout",
     "output_type": "stream",
     "text": [
      "True\n"
     ]
    }
   ],
   "source": [
    "#Testing 3:\n",
    "Test1 = PrimeNumber(3)\n",
    "print(Test1.is_prime())"
   ]
  },
  {
   "cell_type": "code",
   "execution_count": 15,
   "metadata": {},
   "outputs": [
    {
     "name": "stdout",
     "output_type": "stream",
     "text": [
      "False\n"
     ]
    }
   ],
   "source": [
    "#Testing 4:\n",
    "Test1 = PrimeNumber(16)\n",
    "print(Test1.is_prime())"
   ]
  },
  {
   "cell_type": "code",
   "execution_count": 16,
   "metadata": {},
   "outputs": [
    {
     "name": "stdout",
     "output_type": "stream",
     "text": [
      "True\n"
     ]
    }
   ],
   "source": [
    "#Testing 5:\n",
    "Test1 = PrimeNumber(29)\n",
    "print(Test1.is_prime())"
   ]
  },
  {
   "cell_type": "code",
   "execution_count": null,
   "metadata": {},
   "outputs": [],
   "source": []
  }
 ],
 "metadata": {
  "kernelspec": {
   "display_name": "base",
   "language": "python",
   "name": "python3"
  },
  "language_info": {
   "codemirror_mode": {
    "name": "ipython",
    "version": 3
   },
   "file_extension": ".py",
   "mimetype": "text/x-python",
   "name": "python",
   "nbconvert_exporter": "python",
   "pygments_lexer": "ipython3",
   "version": "3.11.5"
  }
 },
 "nbformat": 4,
 "nbformat_minor": 2
}
