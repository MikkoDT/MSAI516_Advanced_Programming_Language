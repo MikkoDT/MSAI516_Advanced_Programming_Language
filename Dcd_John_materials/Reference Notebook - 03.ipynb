{
 "cells": [
  {
   "cell_type": "markdown",
   "id": "ready-portable",
   "metadata": {},
   "source": [
    "1. **[Introduction to Dictionary](#dictionary)**\n",
    "2. **[Introduction to Sets](#sets)**\n",
    "3. **[Conditional Statement and Loops](#loops)**\n",
    "    - 3.1 - [if statement](#if_statement)\n",
    "    - 3.2 - [if else statement](#if_else)\n",
    "    - 3.3 - [if elif else](#if_elif_else)\n",
    "    - 3.4 - [nested if and if else statement](#nested_if)\n",
    "    - 3.5 - [for loop](#forloop)\n",
    "    - 3.6 - [while loop](#whileloop)\n",
    "    - 3.7 - [break statement](#break_statement)\n",
    "    - 3.8 - [continue statement](#continue_statement)"
   ]
  },
  {
   "cell_type": "markdown",
   "id": "popular-squad",
   "metadata": {},
   "source": [
    "<a id=\"dictionary\"> </a>\n",
    "## 1. Introduction to Dictionary\n",
    "\n",
    "                        "
   ]
  },
  {
   "cell_type": "markdown",
   "id": "attached-hamilton",
   "metadata": {
    "collapsed": true
   },
   "source": [
    "**General Syntax of Dictionary:**<br>\n",
    "dictionary_name = {&nbsp;key_1: value_1,<br>\n",
    "&nbsp;&nbsp;&nbsp;&nbsp;&nbsp;&nbsp;&nbsp;&nbsp;&nbsp;&nbsp;&nbsp;&nbsp;&nbsp;&nbsp;&nbsp;&nbsp;&nbsp;&nbsp;&nbsp;&nbsp;&nbsp;&nbsp;&nbsp;&nbsp;&nbsp;&nbsp;&nbsp;&nbsp;&nbsp;&nbsp;&nbsp;&nbsp;                   key_2: value_2,<br>\n",
    "&nbsp;&nbsp;&nbsp;&nbsp;&nbsp;&nbsp;&nbsp;&nbsp;&nbsp;&nbsp;&nbsp;&nbsp;&nbsp;&nbsp;&nbsp;&nbsp;&nbsp;&nbsp;&nbsp;&nbsp;&nbsp;&nbsp;&nbsp;&nbsp;&nbsp;&nbsp;&nbsp;&nbsp;&nbsp;&nbsp;&nbsp;&nbsp;                    key_3: value_3,<br>\n",
    "&nbsp;&nbsp;&nbsp;&nbsp;&nbsp;&nbsp;&nbsp;&nbsp;&nbsp;&nbsp;&nbsp;&nbsp;&nbsp;&nbsp;&nbsp;&nbsp;&nbsp;&nbsp;&nbsp;&nbsp;&nbsp;&nbsp;&nbsp;&nbsp;&nbsp;&nbsp;&nbsp;&nbsp;&nbsp;&nbsp;&nbsp;&nbsp;                    }"
   ]
  },
  {
   "cell_type": "markdown",
   "id": "foreign-hours",
   "metadata": {
    "collapsed": true
   },
   "source": [
    "### Create Dictionary\n",
    "Separate keys from values with a colon(:), and a pair from another by a comma(,). Put it all in curly braces"
   ]
  },
  {
   "cell_type": "code",
   "execution_count": 1,
   "id": "thousand-sherman",
   "metadata": {},
   "outputs": [
    {
     "name": "stdout",
     "output_type": "stream",
     "text": [
      "{'Mia': 83847, 'John': 83837, 'Jill': 94766}\n"
     ]
    }
   ],
   "source": [
    "# create dictionary\n",
    "balance = {\n",
    "    \"Mia\" : 83847,\n",
    "    \"John\" : 83837,\n",
    "    \"Jill\" : 94766\n",
    "}\n",
    "print(balance)"
   ]
  },
  {
   "cell_type": "markdown",
   "id": "vocal-shirt",
   "metadata": {},
   "source": [
    "### Accessing Items\n",
    "You can access the items of a dictionary by referring to its key name, inside square brackets"
   ]
  },
  {
   "cell_type": "code",
   "execution_count": 2,
   "id": "attractive-senator",
   "metadata": {},
   "outputs": [
    {
     "data": {
      "text/plain": [
       "83847"
      ]
     },
     "execution_count": 2,
     "metadata": {},
     "output_type": "execute_result"
    }
   ],
   "source": [
    "# Get the value of \"Mia\" key\n",
    "x = balance[\"Mia\"]\n",
    "x"
   ]
  },
  {
   "cell_type": "markdown",
   "id": "domestic-enzyme",
   "metadata": {},
   "source": [
    "We can use get method to get the value of \"Mia\" key"
   ]
  },
  {
   "cell_type": "code",
   "execution_count": 3,
   "id": "incomplete-apple",
   "metadata": {},
   "outputs": [
    {
     "data": {
      "text/plain": [
       "83847"
      ]
     },
     "execution_count": 3,
     "metadata": {},
     "output_type": "execute_result"
    }
   ],
   "source": [
    "x = balance.get(\"Mia\")\n",
    "x"
   ]
  },
  {
   "cell_type": "markdown",
   "id": "north-applicant",
   "metadata": {},
   "source": [
    "### Change Values\n",
    "You can change the value of a specific element by referring to its key name"
   ]
  },
  {
   "cell_type": "code",
   "execution_count": 4,
   "id": "decimal-blackjack",
   "metadata": {},
   "outputs": [
    {
     "data": {
      "text/plain": [
       "{2015: 34500, 2016: 34300, 2017: 40000}"
      ]
     },
     "execution_count": 4,
     "metadata": {},
     "output_type": "execute_result"
    }
   ],
   "source": [
    "# create a dictionary\n",
    "year_sales = {\n",
    "  2015: 34500,\n",
    "  2016: 34300,\n",
    "  2017: 40000\n",
    "}\n",
    "\n",
    "year_sales"
   ]
  },
  {
   "cell_type": "code",
   "execution_count": 5,
   "id": "dangerous-russell",
   "metadata": {},
   "outputs": [
    {
     "data": {
      "text/plain": [
       "{2015: 45000, 2016: 34300, 2017: 40000}"
      ]
     },
     "execution_count": 5,
     "metadata": {},
     "output_type": "execute_result"
    }
   ],
   "source": [
    "# Change the sales figure for 2015\n",
    "year_sales[2015] = 45000\n",
    "\n",
    "year_sales"
   ]
  },
  {
   "cell_type": "markdown",
   "id": "challenging-wages",
   "metadata": {},
   "source": [
    "**Dictionary Length**"
   ]
  },
  {
   "cell_type": "code",
   "execution_count": 6,
   "id": "cordless-classroom",
   "metadata": {},
   "outputs": [
    {
     "name": "stdout",
     "output_type": "stream",
     "text": [
      "3\n"
     ]
    }
   ],
   "source": [
    "# print the length of dictionary\n",
    "print(len(year_sales))"
   ]
  },
  {
   "cell_type": "markdown",
   "id": "advanced-award",
   "metadata": {},
   "source": [
    "**Adding Items**<br>\n",
    "Adding an item to the dictionary is done by using a new index key and assigning a value to it"
   ]
  },
  {
   "cell_type": "code",
   "execution_count": 7,
   "id": "rotary-breed",
   "metadata": {},
   "outputs": [
    {
     "data": {
      "text/plain": [
       "{2015: 34500, 2016: 34300, 2017: 40000, '2018': 55000}"
      ]
     },
     "execution_count": 7,
     "metadata": {},
     "output_type": "execute_result"
    }
   ],
   "source": [
    "# create a dictionary\n",
    "year_sales = {\n",
    "  2015: 34500,\n",
    "  2016: 34300,\n",
    "  2017: 40000\n",
    "}\n",
    "\n",
    "year_sales['2018'] = 55000\n",
    "\n",
    "year_sales"
   ]
  },
  {
   "cell_type": "markdown",
   "id": "postal-battery",
   "metadata": {},
   "source": [
    "### Dictionary Method"
   ]
  },
  {
   "cell_type": "markdown",
   "id": "enclosed-antibody",
   "metadata": {},
   "source": [
    "**Removing Items**<br>\n",
    "There are several methods to remove items from a dictionary:<br>\n",
    "pop() method<br>\n",
    "popitem() method<br>\n",
    "del keywords<br>\n",
    "clear keyword"
   ]
  },
  {
   "cell_type": "markdown",
   "id": "modular-variation",
   "metadata": {},
   "source": [
    "**pop()**<br>\n",
    "The pop() method removes the item with the specified key name"
   ]
  },
  {
   "cell_type": "code",
   "execution_count": 8,
   "id": "metric-roman",
   "metadata": {},
   "outputs": [
    {
     "data": {
      "text/plain": [
       "{2016: 34300, 2017: 40000}"
      ]
     },
     "execution_count": 8,
     "metadata": {},
     "output_type": "execute_result"
    }
   ],
   "source": [
    "# create a dictionary\n",
    "year_sales = {\n",
    "  2015: 34500,\n",
    "  2016: 34300,\n",
    "  2017: 40000\n",
    "}\n",
    "\n",
    "# remove key from dictionary\n",
    "year_sales.pop(2015)\n",
    "\n",
    "year_sales"
   ]
  },
  {
   "cell_type": "markdown",
   "id": "convinced-reaction",
   "metadata": {},
   "source": [
    "**popitem()**<br>\n",
    "The popitem() method removes the last inserted item"
   ]
  },
  {
   "cell_type": "code",
   "execution_count": 9,
   "id": "imperial-welding",
   "metadata": {},
   "outputs": [
    {
     "data": {
      "text/plain": [
       "{2015: 34500, 2016: 34300}"
      ]
     },
     "execution_count": 9,
     "metadata": {},
     "output_type": "execute_result"
    }
   ],
   "source": [
    "# create a dictionary\n",
    "year_sales = {\n",
    "  2015: 34500,\n",
    "  2016: 34300,\n",
    "  2017: 40000\n",
    "}\n",
    "\n",
    "# remove last item from the dictionary\n",
    "year_sales.popitem()\n",
    "\n",
    "year_sales"
   ]
  },
  {
   "cell_type": "markdown",
   "id": "nervous-differential",
   "metadata": {},
   "source": [
    "**del keywords**<br>\n",
    "The del keyword removes the item with the specified key name"
   ]
  },
  {
   "cell_type": "code",
   "execution_count": 10,
   "id": "forward-qatar",
   "metadata": {},
   "outputs": [
    {
     "data": {
      "text/plain": [
       "{2016: 34300, 2017: 40000}"
      ]
     },
     "execution_count": 10,
     "metadata": {},
     "output_type": "execute_result"
    }
   ],
   "source": [
    "# create a dictionary\n",
    "year_sales = {\n",
    "  2015: 34500,\n",
    "  2016: 34300,\n",
    "  2017: 40000\n",
    "}\n",
    "\n",
    "# delete item from the dictionary\n",
    "del year_sales[2015]\n",
    "\n",
    "year_sales"
   ]
  },
  {
   "cell_type": "markdown",
   "id": "sound-short",
   "metadata": {},
   "source": [
    "**clear()**<br>\n",
    "The clear() keyword empties the dictionary"
   ]
  },
  {
   "cell_type": "code",
   "execution_count": 11,
   "id": "lined-drive",
   "metadata": {},
   "outputs": [
    {
     "data": {
      "text/plain": [
       "{}"
      ]
     },
     "execution_count": 11,
     "metadata": {},
     "output_type": "execute_result"
    }
   ],
   "source": [
    "# create a dictionary\n",
    "year_sales = {\n",
    "  2015: 34500,\n",
    "  2016: 34300,\n",
    "  2017: 40000\n",
    "}\n",
    "\n",
    "# clear the dictionary\n",
    "year_sales.clear()\n",
    "\n",
    "year_sales"
   ]
  },
  {
   "cell_type": "markdown",
   "id": "presidential-knock",
   "metadata": {},
   "source": [
    "**Copy()**<br>\n",
    "You cannot copy a dictionary simply by typing dict2 = dict1, because dict2 will only be a reference to dict1, and changes made in dict1 will automatically also be made in dict2<br>\n",
    "You can use copy() method to make copy of dictionary"
   ]
  },
  {
   "cell_type": "code",
   "execution_count": 12,
   "id": "welcome-shooting",
   "metadata": {},
   "outputs": [],
   "source": [
    "# create a dictionary\n",
    "year_sales1 = {\n",
    "  2015: 34500,\n",
    "  2016: 34300,\n",
    "  2017: 40000\n",
    "}\n",
    "\n",
    "# make a copy of dictionary\n",
    "copy_dict = year_sales.copy()"
   ]
  },
  {
   "cell_type": "markdown",
   "id": "muslim-conversion",
   "metadata": {},
   "source": [
    "**sorted()**<br>\n",
    "Return a new sorted list of keys in the dictionary"
   ]
  },
  {
   "cell_type": "code",
   "execution_count": 13,
   "id": "stone-economy",
   "metadata": {},
   "outputs": [
    {
     "data": {
      "text/plain": [
       "[1, 3, 5, 7, 9]"
      ]
     },
     "execution_count": 13,
     "metadata": {},
     "output_type": "execute_result"
    }
   ],
   "source": [
    "Square = {1: 1, 3: 9, 5: 25, 7: 49, 9: 81}\n",
    "sorted(Square)"
   ]
  },
  {
   "cell_type": "markdown",
   "id": "renewable-tours",
   "metadata": {},
   "source": [
    "**update()**<br>\n",
    "We can also add and modify dictionaries by using the dict.update() method"
   ]
  },
  {
   "cell_type": "code",
   "execution_count": 14,
   "id": "divided-contest",
   "metadata": {},
   "outputs": [
    {
     "data": {
      "text/plain": [
       "{2015: 34500, 2016: 34300, 2017: 40000, 2018: 30000}"
      ]
     },
     "execution_count": 14,
     "metadata": {},
     "output_type": "execute_result"
    }
   ],
   "source": [
    "# create a dictionary\n",
    "year_sales = {\n",
    "  2015: 34500,\n",
    "  2016: 34300,\n",
    "  2017: 40000\n",
    "}\n",
    "\n",
    "# update dictionary\n",
    "year_sales.update({2018:30000})\n",
    "\n",
    "year_sales"
   ]
  },
  {
   "cell_type": "markdown",
   "id": "complex-title",
   "metadata": {},
   "source": [
    "<a id=\"sets\"> </a>\n",
    "## 2. Introduction to Sets\n"
   ]
  },
  {
   "cell_type": "markdown",
   "id": "optional-paintball",
   "metadata": {},
   "source": [
    "### Creating Set\n",
    "In Python sets are written with curly brackets"
   ]
  },
  {
   "cell_type": "code",
   "execution_count": 15,
   "id": "alive-athens",
   "metadata": {},
   "outputs": [
    {
     "name": "stdout",
     "output_type": "stream",
     "text": [
      "{1, 2, 3, 4}\n"
     ]
    },
    {
     "data": {
      "text/plain": [
       "{1, 2, 3, 4}"
      ]
     },
     "execution_count": 15,
     "metadata": {},
     "output_type": "execute_result"
    }
   ],
   "source": [
    "# create a set\n",
    "s = {1, 2, 3, 3, 4, 3, 3, 2, 2, 2}\n",
    "print (s)\n",
    "\n",
    "# create a set\n",
    "set([1, 2, 3, 4, 4, 4])"
   ]
  },
  {
   "cell_type": "markdown",
   "id": "living-story",
   "metadata": {},
   "source": [
    "Python has the following methods that you can use on sets:<br>\n",
    "add()<br>\n",
    "update()<br>\n",
    "len()<br>\n",
    "remove()<br>\n",
    "pop()<br>"
   ]
  },
  {
   "cell_type": "markdown",
   "id": "urban-armstrong",
   "metadata": {},
   "source": [
    "<a id=\"loops\"> </a>\n",
    "## 3. Conditional Statement and Loops"
   ]
  },
  {
   "cell_type": "markdown",
   "id": "hazardous-essex",
   "metadata": {},
   "source": [
    "<a id=\"if_statement\"> </a>\n",
    "## 3.1 if statement\n"
   ]
  },
  {
   "cell_type": "markdown",
   "id": "precious-framework",
   "metadata": {},
   "source": [
    "**syntax:**<br><br>\n",
    "if BOOLEAN EXPRESSION:<br>\n",
    "&nbsp;&nbsp;    STATEMENTS"
   ]
  },
  {
   "cell_type": "markdown",
   "id": "labeled-optics",
   "metadata": {},
   "source": [
    "####  Now, we will see some examples on if statements"
   ]
  },
  {
   "cell_type": "code",
   "execution_count": 3,
   "id": "illegal-highlight",
   "metadata": {},
   "outputs": [
    {
     "name": "stdout",
     "output_type": "stream",
     "text": [
      "Python Tutorial\n"
     ]
    }
   ],
   "source": [
    "# create a string\n",
    "my_string = 'Python'\n",
    "\n",
    "# create a list\n",
    "my_list = ['Data Science', 'Machine Learning', 'Artificial Intelligence', 'Python']\n",
    "\n",
    "if my_string in my_list:\n",
    "    print(my_string + ' Tutorial')"
   ]
  },
  {
   "cell_type": "markdown",
   "id": "blond-particle",
   "metadata": {},
   "source": [
    " Test if an item is a member of a list or not."
   ]
  },
  {
   "cell_type": "code",
   "execution_count": 5,
   "id": "passive-horse",
   "metadata": {},
   "outputs": [
    {
     "name": "stdout",
     "output_type": "stream",
     "text": [
      "right\n"
     ]
    }
   ],
   "source": [
    "languages = ['java', 'python' ,'perl', 'ruby', 'c#']\n",
    "if 'python' in languages:\n",
    "    print('right')"
   ]
  },
  {
   "cell_type": "markdown",
   "id": "armed-arrow",
   "metadata": {},
   "source": [
    "<a id=\"if_else\"> </a>\n",
    "## 3.2 if else statement\n"
   ]
  },
  {
   "cell_type": "markdown",
   "id": "sweet-binding",
   "metadata": {},
   "source": [
    "**Syntax of if...else**<br><br>\n",
    "if BOOLEAN EXPRESSION:<br>\n",
    "&nbsp;&nbsp;    STATEMENTS_1<br>\n",
    "else:<br>\n",
    "&nbsp;&nbsp;    STATEMENTS_2"
   ]
  },
  {
   "cell_type": "markdown",
   "id": "smaller-desktop",
   "metadata": {},
   "source": [
    "#### Let’s see an example of the implementation of the if…else statement."
   ]
  },
  {
   "cell_type": "code",
   "execution_count": 7,
   "id": "beginning-mentor",
   "metadata": {},
   "outputs": [
    {
     "name": "stdout",
     "output_type": "stream",
     "text": [
      "200\n",
      "the value of x different from 500\n"
     ]
    }
   ],
   "source": [
    "# create a integer\n",
    "x = 200\n",
    "print(x)\n",
    "\n",
    "# uses the not operator to reverse the result of the logical expression\n",
    "if not x == 500:\n",
    "    print('the value of x different from 500')\n",
    "else:\n",
    "    print('the value of x is equal to 500')"
   ]
  },
  {
   "cell_type": "code",
   "execution_count": 19,
   "id": "active-dealing",
   "metadata": {},
   "outputs": [
    {
     "name": "stdout",
     "output_type": "stream",
     "text": [
      "enter your useridgreatlearning\n",
      "enter your passwordsimplelearning123\n",
      "Succefully logged in!!\n"
     ]
    }
   ],
   "source": [
    "string1 = str(input(\"enter your userid\"))\n",
    "string2 = str(input(\"enter your password\"))\n",
    "\n",
    "if (string1 == \"greatlearning\" and string2 == \"simplelearning123\"):\n",
    "    print(\"Succefully logged in!!\")\n",
    "else :\n",
    "    print(\"Please check your userid and password\")"
   ]
  },
  {
   "cell_type": "markdown",
   "id": "broken-transaction",
   "metadata": {},
   "source": [
    "<a id=\"if_elif_else\"> </a>\n",
    "## 3.3 if elif else\n"
   ]
  },
  {
   "cell_type": "markdown",
   "id": "artificial-hardwood",
   "metadata": {},
   "source": [
    "**Syntax of if elif else:**<br>\n",
    "if x < y:<br>\n",
    "&nbsp;&nbsp;    STATEMENTS_A<br>\n",
    "elif x > y:<br>\n",
    "&nbsp;&nbsp    STATEMENTS_B<br>\n",
    "else:<br>\n",
    "&nbsp;&nbsp;    STATEMENTS_C"
   ]
  },
  {
   "cell_type": "markdown",
   "id": "female-absolute",
   "metadata": {},
   "source": [
    "#### Q. Check whether the given number is greater than 50 or not"
   ]
  },
  {
   "cell_type": "code",
   "execution_count": 20,
   "id": "figured-dynamics",
   "metadata": {},
   "outputs": [
    {
     "name": "stdout",
     "output_type": "stream",
     "text": [
      "Number is greater than 50\n"
     ]
    }
   ],
   "source": [
    "num = 100\n",
    "if (num == 0):\n",
    "    print(\"Number is Zero\")\n",
    "elif (num > 5):\n",
    "    print(\"Number is greater than 50\")\n",
    "else:\n",
    "    print(\"Number is smaller than 50\")\n"
   ]
  },
  {
   "cell_type": "markdown",
   "id": "ruled-davis",
   "metadata": {},
   "source": [
    "<a id=\"nested_if\"> </a>\n",
    "## 3.4 nested if and if else statement\n"
   ]
  },
  {
   "cell_type": "code",
   "execution_count": 9,
   "id": "wrong-polls",
   "metadata": {},
   "outputs": [
    {
     "name": "stdout",
     "output_type": "stream",
     "text": [
      "Enter a number: 23\n",
      "Positive number\n"
     ]
    }
   ],
   "source": [
    "num = float(input(\"Enter a number: \"))\n",
    "if num > 0:\n",
    "    print(\"Positive number\")\n",
    "elif num < 0:\n",
    "    print(\"Negative number\")\n",
    "else:\n",
    "    print(\"Zero\")\n",
    "\n",
    "    "
   ]
  },
  {
   "cell_type": "markdown",
   "id": "unavailable-encyclopedia",
   "metadata": {},
   "source": [
    "<a id=\"forloop\"> </a>\n",
    "## 3.5 for loop\n"
   ]
  },
  {
   "cell_type": "markdown",
   "id": "driven-chess",
   "metadata": {},
   "source": [
    "**Syntax of for loop:**<br>\n",
    "for val in sequence:<br>\n",
    "&nbsp;&nbsp;\tBody of for"
   ]
  },
  {
   "cell_type": "markdown",
   "id": "awful-tamil",
   "metadata": {},
   "source": [
    "#### Q. Program to find the sum of all numbers stored in a list"
   ]
  },
  {
   "cell_type": "code",
   "execution_count": 10,
   "id": "lesser-compensation",
   "metadata": {},
   "outputs": [
    {
     "name": "stdout",
     "output_type": "stream",
     "text": [
      "The sum is 2068\n"
     ]
    }
   ],
   "source": [
    "\n",
    "# List of numbers\n",
    "numbers = [66, 545, 223, 438, 224, 122, 125, 214, 111]\n",
    "\n",
    "# variable to store the sum\n",
    "sum = 0\n",
    "\n",
    "# iterate over the list\n",
    "for val in numbers:\n",
    "    sum += val\n",
    "\n",
    "# Output: The sum is 48\n",
    "print(\"The sum is\", sum)"
   ]
  },
  {
   "cell_type": "markdown",
   "id": "statutory-catalog",
   "metadata": {},
   "source": [
    "<a id=\"whileloop\"> </a>\n",
    "## 3.6 while loop\n"
   ]
  },
  {
   "cell_type": "markdown",
   "id": "clinical-carter",
   "metadata": {},
   "source": [
    "**Syntax of for loop:**<br>\n",
    "while (expression):<br>\n",
    "&nbsp;&nbsp;     statement_1<br>\n",
    "&nbsp;&nbsp;     statement_2<br>\n",
    "    ...."
   ]
  },
  {
   "cell_type": "markdown",
   "id": "random-rescue",
   "metadata": {},
   "source": [
    "#### Q. Calculate the sum of the integers from 0 to 9"
   ]
  },
  {
   "cell_type": "code",
   "execution_count": 11,
   "id": "mighty-cartoon",
   "metadata": {},
   "outputs": [
    {
     "name": "stdout",
     "output_type": "stream",
     "text": [
      "The sum of first 9 integers :  45\n"
     ]
    }
   ],
   "source": [
    "a = 0;\n",
    "b = 0\n",
    "while (a < 10):\n",
    "     b += a\n",
    "     a += 1\n",
    "else :\n",
    "     print('The sum of first 9 integers : ',b)   "
   ]
  },
  {
   "cell_type": "markdown",
   "id": "handmade-salvation",
   "metadata": {},
   "source": [
    "<a id=\"break_statement\"> </a>\n",
    "## 3.7 break statement\n"
   ]
  },
  {
   "cell_type": "markdown",
   "id": "through-clarity",
   "metadata": {},
   "source": [
    "Check whether a numbers entered by the user is negative or not."
   ]
  },
  {
   "cell_type": "code",
   "execution_count": 24,
   "id": "modified-explorer",
   "metadata": {},
   "outputs": [
    {
     "name": "stdout",
     "output_type": "stream",
     "text": [
      "78\n",
      "89\n",
      "09\n",
      "89\n",
      "78\n",
      "No negative numbers met\n"
     ]
    }
   ],
   "source": [
    "for i in range(5):\n",
    "    a = int(input())\n",
    "    if a < 0:\n",
    "        print('Met a negative number', a)\n",
    "        break\n",
    "else:\n",
    "    print('No negative numbers met')"
   ]
  },
  {
   "cell_type": "markdown",
   "id": "touched-wisconsin",
   "metadata": {},
   "source": [
    "### <a id=\"continue_statement\"> </a>\n",
    "## 3.8 continue statement\n"
   ]
  },
  {
   "cell_type": "code",
   "execution_count": 12,
   "id": "private-zambia",
   "metadata": {},
   "outputs": [
    {
     "name": "stdout",
     "output_type": "stream",
     "text": [
      "1 2 3 4 5 7 8 9 10 "
     ]
    }
   ],
   "source": [
    "# loop from 1 to 10 \n",
    "for i in range(1, 11): \n",
    "    if i == 6: \n",
    "        continue\n",
    "    else: \n",
    "        # otherwise print the value of i \n",
    "        print(i, end = \" \") "
   ]
  },
  {
   "cell_type": "markdown",
   "id": "younger-norwegian",
   "metadata": {},
   "source": [
    "Use the continue statement in a while loop"
   ]
  },
  {
   "cell_type": "code",
   "execution_count": 26,
   "id": "infinite-attribute",
   "metadata": {},
   "outputs": [
    {
     "name": "stdout",
     "output_type": "stream",
     "text": [
      "1\n",
      "2\n",
      "4\n",
      "5\n",
      "6\n",
      "7\n",
      "8\n",
      "9\n"
     ]
    }
   ],
   "source": [
    "i = 0\n",
    "while i < 9:\n",
    "    i += 1\n",
    "    if i == 3:\n",
    "        continue\n",
    "    print(i)"
   ]
  }
 ],
 "metadata": {
  "kernelspec": {
   "display_name": "Python 3",
   "language": "python",
   "name": "python3"
  },
  "language_info": {
   "codemirror_mode": {
    "name": "ipython",
    "version": 3
   },
   "file_extension": ".py",
   "mimetype": "text/x-python",
   "name": "python",
   "nbconvert_exporter": "python",
   "pygments_lexer": "ipython3",
   "version": "3.8.8"
  }
 },
 "nbformat": 4,
 "nbformat_minor": 5
}
