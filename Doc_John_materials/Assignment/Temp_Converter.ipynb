{
 "cells": [
  {
   "cell_type": "code",
   "execution_count": 4,
   "metadata": {},
   "outputs": [],
   "source": [
    "class Temperature_Converter:\n",
    "\n",
    "    def __init__(self):\n",
    "        pass\n",
    "\n",
    "    def C_to_F(self, celsius): #Celsius to Fahrenheit\n",
    "        return (celsius * 9/5) + 32\n",
    "    \n",
    "    def F_to_C(self, fahrenheit): #Fahrenheit to Celsius\n",
    "        return (fahrenheit - 32) * (5/9)\n",
    "    \n",
    "    "
   ]
  },
  {
   "cell_type": "code",
   "execution_count": 7,
   "metadata": {},
   "outputs": [
    {
     "name": "stdout",
     "output_type": "stream",
     "text": [
      "0 degrees Celsius is equL TO 32.00 degrees Fahrenheit\n",
      "32 degrees Celsius is equL TO 0.00 degrees Celsius\n"
     ]
    }
   ],
   "source": [
    "converter = Temperature_Converter()\n",
    "\n",
    "Temp_in_Celsius = 0\n",
    "Temp_in_Fahrenheit = 32\n",
    "\n",
    "Fahrenheit_converted = converter.C_to_F(Temp_in_Celsius)\n",
    "Celsius_converted = converter.F_to_C(Temp_in_Fahrenheit)\n",
    "\n",
    "print(f\"{Temp_in_Celsius} degrees Celsius is equL TO {Fahrenheit_converted:.2F} degrees Fahrenheit\")\n",
    "print(f\"{Temp_in_Fahrenheit} degrees Celsius is equL TO {Celsius_converted:.2F} degrees Celsius\")"
   ]
  },
  {
   "cell_type": "code",
   "execution_count": null,
   "metadata": {},
   "outputs": [],
   "source": []
  }
 ],
 "metadata": {
  "kernelspec": {
   "display_name": "base",
   "language": "python",
   "name": "python3"
  },
  "language_info": {
   "codemirror_mode": {
    "name": "ipython",
    "version": 3
   },
   "file_extension": ".py",
   "mimetype": "text/x-python",
   "name": "python",
   "nbconvert_exporter": "python",
   "pygments_lexer": "ipython3",
   "version": "3.11.5"
  }
 },
 "nbformat": 4,
 "nbformat_minor": 2
}
