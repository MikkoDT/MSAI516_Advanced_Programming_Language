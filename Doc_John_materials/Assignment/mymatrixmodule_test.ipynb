{
 "cells": [
  {
   "cell_type": "code",
   "execution_count": 3,
   "metadata": {},
   "outputs": [],
   "source": [
    "import mymatrixmodule as matrix"
   ]
  },
  {
   "cell_type": "code",
   "execution_count": 4,
   "metadata": {},
   "outputs": [],
   "source": [
    "A = [[1,3,7],\n",
    "     [5,8,-9],\n",
    "     [6,-7,1]]\n",
    "\n",
    "B = [[2,3,5],\n",
    "     [5,-9,-9],\n",
    "     [6,8,1]]"
   ]
  },
  {
   "cell_type": "code",
   "execution_count": 6,
   "metadata": {},
   "outputs": [
    {
     "name": "stdout",
     "output_type": "stream",
     "text": [
      "[[3, 6, 12], [10, -1, -18], [12, 1, 2]]\n"
     ]
    }
   ],
   "source": [
    "c = matrix.matrixaddition(A,B)\n",
    "print(c)"
   ]
  },
  {
   "cell_type": "code",
   "execution_count": 7,
   "metadata": {},
   "outputs": [
    {
     "name": "stdout",
     "output_type": "stream",
     "text": [
      "[[-1, 0, 2], [0, 17, 0], [0, -15, 0]]\n"
     ]
    }
   ],
   "source": [
    "c = matrix.matrixsubtraction(A,B)\n",
    "print(c)"
   ]
  },
  {
   "cell_type": "code",
   "execution_count": 8,
   "metadata": {},
   "outputs": [
    {
     "name": "stdout",
     "output_type": "stream",
     "text": [
      "[[59, 32, -15], [-4, -129, -56], [-17, 89, 94]]\n"
     ]
    }
   ],
   "source": [
    "c = matrix.matrixmultiplication(A,B)\n",
    "print(c)"
   ]
  },
  {
   "cell_type": "code",
   "execution_count": 9,
   "metadata": {},
   "outputs": [],
   "source": [
    "import numpy as np"
   ]
  },
  {
   "cell_type": "code",
   "execution_count": 11,
   "metadata": {},
   "outputs": [
    {
     "name": "stdout",
     "output_type": "stream",
     "text": [
      "[[  59   32  -15]\n",
      " [  -4 -129  -56]\n",
      " [ -17   89   94]]\n"
     ]
    }
   ],
   "source": [
    "d = np.dot(A,B)\n",
    "print(d)"
   ]
  },
  {
   "cell_type": "code",
   "execution_count": null,
   "metadata": {},
   "outputs": [],
   "source": []
  }
 ],
 "metadata": {
  "kernelspec": {
   "display_name": "base",
   "language": "python",
   "name": "python3"
  },
  "language_info": {
   "codemirror_mode": {
    "name": "ipython",
    "version": 3
   },
   "file_extension": ".py",
   "mimetype": "text/x-python",
   "name": "python",
   "nbconvert_exporter": "python",
   "pygments_lexer": "ipython3",
   "version": "3.11.5"
  }
 },
 "nbformat": 4,
 "nbformat_minor": 2
}
