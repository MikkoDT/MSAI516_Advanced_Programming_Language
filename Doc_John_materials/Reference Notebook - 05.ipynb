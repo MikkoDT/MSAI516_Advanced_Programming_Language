{
 "cells": [
  {
   "cell_type": "markdown",
   "id": "cb3b7acf",
   "metadata": {},
   "source": [
    "# **Creating Classes in Python**\n",
    "\n",
    "Python is an object oriented programming (OOP) language. Almost everything in Python is an object, with its properties and methods.\n",
    "\n",
    "The foundation for all object oriented programming (OOP) languages are Classes.\n",
    "\n",
    "To create a class, use the keyword class.\n",
    "\n",
    "Example 1. We will create a simple Class in Python."
   ]
  },
  {
   "cell_type": "code",
   "execution_count": 16,
   "id": "327917e6",
   "metadata": {},
   "outputs": [
    {
     "name": "stdout",
     "output_type": "stream",
     "text": [
      "Toyota\n",
      "Jade\n"
     ]
    }
   ],
   "source": [
    "class Car:\n",
    "    model = \"Toyota\"\n",
    "    color = \"Jade\"\n",
    "\n",
    "car = Car()\n",
    "\n",
    "print(car.model)\n",
    "print(car.color)"
   ]
  },
  {
   "cell_type": "markdown",
   "id": "1f3677a2",
   "metadata": {},
   "source": [
    "Example 2. Lets create the following Python Code:"
   ]
  },
  {
   "cell_type": "code",
   "execution_count": 20,
   "id": "53e3e8c0",
   "metadata": {},
   "outputs": [
    {
     "name": "stdout",
     "output_type": "stream",
     "text": [
      "Blue Volvo\n",
      "Jade Toyota\n"
     ]
    }
   ],
   "source": [
    "class Car:\n",
    "    model = \"Volvo\"\n",
    "    color = \"Blue\"\n",
    "\n",
    "car = Car()\n",
    "\n",
    "print(car.color + \" \" + car.model)\n",
    "\n",
    "car.model = \"Toyota\"\n",
    "car.color = \"Jade\"\n",
    "\n",
    "print(car.color + \" \" + car.model)"
   ]
  },
  {
   "cell_type": "markdown",
   "id": "a3d94f1f",
   "metadata": {},
   "source": [
    "## The __init__() Function\n",
    "\n",
    "In Python all classes have a built-in function called __init__(), which is always executed when the class is being initiated.\n",
    "\n",
    "In many other OOP languages we call this the Constructor.\n",
    "\n",
    "Example 3. We will create a simple example where we use the init () function to illustrate the principle."
   ]
  },
  {
   "cell_type": "code",
   "execution_count": 22,
   "id": "732346e2",
   "metadata": {},
   "outputs": [
    {
     "name": "stdout",
     "output_type": "stream",
     "text": [
      "Green Ford\n",
      "Blue Volvo\n"
     ]
    }
   ],
   "source": [
    "class Car:\n",
    "    def __init__(self, model, color):\n",
    "        self.model = model\n",
    "        self.color = color\n",
    "        \n",
    "car1 = Car(\"Ford\", \"Green\")\n",
    "\n",
    "print(car1.color + \" \" + car1.model)\n",
    "\n",
    "car2 = Car(\"Volvo\", \"Blue\")\n",
    "\n",
    "print(car2.color + \" \" + car2.model)"
   ]
  },
  {
   "cell_type": "markdown",
   "id": "43ea19c9",
   "metadata": {},
   "source": [
    "Example 4. Lets extend the Class by defining a Function as well:"
   ]
  },
  {
   "cell_type": "code",
   "execution_count": 23,
   "id": "adb67edc",
   "metadata": {},
   "outputs": [
    {
     "name": "stdout",
     "output_type": "stream",
     "text": [
      "Ford\n",
      "Green\n",
      "Blue Volvo\n"
     ]
    }
   ],
   "source": [
    "class Car:\n",
    "    def __init__(self, model, color):\n",
    "        self.model = model\n",
    "        self.color = color\n",
    "        \n",
    "    def displayCar(self):\n",
    "        print(self.color + \" \" + self.model)\n",
    "        \n",
    "car1 = Car(\"Ford\", \"Green\")\n",
    "\n",
    "print(car1.model)\n",
    "print(car1.color)\n",
    "\n",
    "car2 = Car(\"Volvo\", \"Blue\")\n",
    "\n",
    "car2.displayCar()"
   ]
  },
  {
   "cell_type": "code",
   "execution_count": 2,
   "id": "8d566e8f",
   "metadata": {},
   "outputs": [
    {
     "name": "stdout",
     "output_type": "stream",
     "text": [
      "Tesla\n",
      "Red\n",
      "Green Tesla\n",
      "Blue Tesla\n",
      "Black Tesla\n"
     ]
    }
   ],
   "source": [
    "from Car import Car\n",
    "\n",
    "car1 = Car(\"Tesla\", \"Red\")\n",
    "\n",
    "print(car1.model)\n",
    "print(car1.color)\n",
    "\n",
    "car2 = Car(\"Tesla\", \"Green\")\n",
    "\n",
    "car2.displayCar()\n",
    "\n",
    "car3 = Car(\"Tesla\", \"Blue\")\n",
    "\n",
    "car3.displayCar()\n",
    "\n",
    "car3.color = \"Black\"\n",
    "\n",
    "car3.displayCar()"
   ]
  },
  {
   "cell_type": "code",
   "execution_count": null,
   "id": "5c4ca575",
   "metadata": {},
   "outputs": [],
   "source": []
  }
 ],
 "metadata": {
  "kernelspec": {
   "display_name": "Python 3",
   "language": "python",
   "name": "python3"
  },
  "language_info": {
   "codemirror_mode": {
    "name": "ipython",
    "version": 3
   },
   "file_extension": ".py",
   "mimetype": "text/x-python",
   "name": "python",
   "nbconvert_exporter": "python",
   "pygments_lexer": "ipython3",
   "version": "3.8.8"
  }
 },
 "nbformat": 4,
 "nbformat_minor": 5
}
